{
 "cells": [
  {
   "cell_type": "markdown",
   "metadata": {},
   "source": [
    "# Introduction"
   ]
  },
  {
   "cell_type": "markdown",
   "metadata": {},
   "source": [
    "<p>\n",
    "For lab 2 students are expected to implement the following regression algorithms (with libraries):\n",
    "<ul>\n",
    "    <li>k-nearest neighbors</li>\n",
    "    <li>Linear Regression</li>\n",
    "    <li>Ridge Regression</li>\n",
    "    <li>Regression Trees</li>\n",
    "    <li>Random Forests</li>\n",
    "    <li>SVMs</li>\n",
    "    <li>Mulilayer Perceptrons</li>\n",
    "</ul>\n",
    "\n",
    "<p>\n",
    "These algorithms use the energy.txt dataset which contains five floating point features and one label. These algorithms will produce a prediction of new data. Students are also expected to report their findings on how these algorithms work and which parameters work best.\n",
    "</p>\n",
    "\n",
    "<p>\n",
    "From all these algorithms, we should be able to find which ones best model the dataset and find the models with the best performances. From these models students will be able to predict which algorithms are best different features.\n",
    "</p>"
   ]
  },
  {
   "cell_type": "markdown",
   "metadata": {},
   "source": [
    "# Implementation"
   ]
  },
  {
   "cell_type": "markdown",
   "metadata": {},
   "source": [
    "<p>For the implementation of lab 2 I've elected to use the sklearn libraries. The regression algorithms within this library use the <code>fit</code> and <code>predict</code> methods to train and generalize.</p>\n",
    "\n",
    "<h5>K-Nearest Neighbors</h5>\n",
    "<p>This algorithm works by storing a data set (training data) and making predictions by selecting the k samples that have the closest features to the new sample. This algorithm then uses the label(s) from these k samples to predict the new label (usually by taking the mean). There are various alterations besides k. The most significate one is the distance function, which decides how the distance between feature values will be weighted.</p>\n",
    "\n",
    "<h5>Linear and Ridge Regression</h5>\n",
    "<p>Linear Regression functions work by computing a linear function that minimizes error between all y values and the function. Algorithms typically uses ordinary least squares to do this which is the sum of the squared distances between the y actuals and the value predicted by the function. Ridge regression fights overfitting and high variance by incorporating L2 regularization.</p>\n",
    "\n",
    "<h5>Regression Trees</h5>\n",
    "<p>Regression trees attempts to partition data into like sets by using different function to grade the similarity of data within the subsets. They typically choose features to split with by finding the feature that best splits the data. One side effect of these algorithms is that they tend to produce new labels on a range. This means that trees with few branches tend to overgeneralize data and perform poorly when predicting from extreme features. Additionally, using too many branches (deep trees) can lead to overfitting.</p>\n",
    "\n",
    "<h5>Random Forests</h5>\n",
    "<p>Random forests operate off of a statistical convention wherein if a model has a probability of P(A) > .5 that the combined probability is increased if multiple models are combined in an ensemble. These ensembles are also very useful for \"weak models\". One stipulation of these ensembles, however, is that they need consistently predict better than random and they also have to have some variation between one another. Simply cloning the same model would cause the probability of an erroneous prediction to stay the same. Typically, these ensembles can have the most confident models vote on an answer. Ensembles perform especially well if the models vary on how they choose values from features. Random forests operate by creating random decision trees and using them in an ensemble to make predictions. Random forests are very cleaver because random trees vary a great deal on what features they use for each branch and which thresholds they choose to use.</p>\n",
    "\n",
    "<h5>Support Vector Machines</h5>\n",
    "<p>These algorithms attempt to create a channel between two sets of data that is wide as possible. The algorithm works by finding \"support vectors\" or vectors from points that are relevant to the definition of a decision boundary. Any new feature is then classified based on its computed distance to the support vectors.</p>\n",
    "\n",
    "<h5>Multilayer Perceptrons</h5>\n",
    "<p>MLPs are artificial neural networks that use hidden layers with learned weights to make predictions on new features. It learns these weights by making forward passes of training data and using the error to backpropagate changes via gradient descent. The number of layers can be increase to create deep nets that can more accurately classify complex features.</p>    "
   ]
  },
  {
   "cell_type": "markdown",
   "metadata": {},
   "source": [
    "# Results and Analysis"
   ]
  },
  {
   "cell_type": "markdown",
   "metadata": {},
   "source": [
    "## Imported Libraries"
   ]
  },
  {
   "cell_type": "code",
   "execution_count": 1,
   "metadata": {},
   "outputs": [],
   "source": [
    "import math\n",
    "import matplotlib\n",
    "import matplotlib.pyplot as plt\n",
    "import numpy as np\n",
    "import pandas as pd\n",
    "from sklearn.metrics import mean_squared_error\n",
    "from sklearn.model_selection import GridSearchCV, RandomizedSearchCV\n",
    "from sklearn.model_selection import train_test_split\n",
    "from sklearn.pipeline import make_pipeline\n",
    "from sklearn.preprocessing import StandardScaler\n",
    "\n",
    "%matplotlib inline"
   ]
  },
  {
   "cell_type": "markdown",
   "metadata": {},
   "source": [
    "## Prepare the Data\n",
    "\n",
    "I have decided to us pandas dataframes to contain the data because of its enhanced API which allows for column and index labeling and fast matrix operations. The data is split into training and testing sets along with a standardized training and testing (just features) for the algorithms that require standardization."
   ]
  },
  {
   "cell_type": "code",
   "execution_count": 63,
   "metadata": {},
   "outputs": [],
   "source": [
    "def read_data(path):\n",
    "    data = pd.read_csv(path, delimiter=\",\", names=['x1', 'x2', 'x3', 'x4', 'x5', 'y'])\n",
    "    \n",
    "    return train_test_split(data[['x1', 'x2', 'x3', 'x4', 'x5']], \n",
    "                                             data[['y']], \n",
    "                                             test_size=0.20,\n",
    "                                             train_size=0.80,\n",
    "                                             random_state=99,\n",
    "                                             shuffle=True)\n",
    "\n",
    "X_train, X_test, y_train, y_test = read_data(\"../res/energy.txt\")\n",
    "\n",
    "standardizer = StandardScaler()\n",
    "standardizer.fit(X_train)\n",
    "X_train_std = standardizer.transform(X_train)\n",
    "X_test_std = standardizer.transform(X_test)"
   ]
  },
  {
   "cell_type": "markdown",
   "metadata": {},
   "source": [
    "#### Dictionaries used to store the best models for comparison at the end"
   ]
  },
  {
   "cell_type": "code",
   "execution_count": 58,
   "metadata": {},
   "outputs": [],
   "source": [
    "y_pred = {}\n",
    "y_pred_best = {}\n",
    "parameters = {}\n",
    "models = {}"
   ]
  },
  {
   "cell_type": "markdown",
   "metadata": {},
   "source": [
    "#### Used in algorithms with a floating point distribution >= 0.0"
   ]
  },
  {
   "cell_type": "code",
   "execution_count": 59,
   "metadata": {},
   "outputs": [],
   "source": [
    "float_dist = [math.exp(x / 10) for x in range(-100, 100)]"
   ]
  },
  {
   "cell_type": "markdown",
   "metadata": {},
   "source": [
    "## Models\n",
    "\n",
    "Default implementations are run to give a baseline of performance that is compared to ones with tuned hyperparameters."
   ]
  },
  {
   "cell_type": "markdown",
   "metadata": {},
   "source": [
    "### K-Nearest Neighbors\n",
    "\n",
    "KNN contains hyperparameters for the number of neighbors and the weights used to compute the distance between features. The number of neighbors should have a big impact on the MSE because it influences how many samples are used to make a prediction. The weight function also should have a significant impact on the error. The default neighbors for this algorithm is 5 which performed relatively well on the \"energy\" dataset. Uniform weights are used as a default. Uniform causes all weights to be applied equally to the evaluation of a near neighbor."
   ]
  },
  {
   "cell_type": "code",
   "execution_count": 62,
   "metadata": {},
   "outputs": [
    {
     "name": "stdout",
     "output_type": "stream",
     "text": [
      "Default prediction:  1.1638449650596667\n"
     ]
    }
   ],
   "source": [
    "from sklearn.neighbors import KNeighborsRegressor\n",
    "\n",
    "knn = KNeighborsRegressor()\n",
    "knn.fit(X_train_std, y_train.as_matrix().ravel())\n",
    "y_pred[\"knn\"] = knn.predict(X_test_std)\n",
    "\n",
    "print(\"Default prediction: \", mean_squared_error(y_pred[\"knn\"], y_test))"
   ]
  },
  {
   "cell_type": "markdown",
   "metadata": {},
   "source": [
    "#### Does the number of neighbors matter?\n",
    "\n",
    "The graph below shows that having just one neighbor performs very poorly and as the number of neighbors increases, the error goes down significantly. The error begins to go up slowly after around 7 to 10. Eventually, if the number of neighbors equals the number of training samples, then the algorithm would be the equivalent of taking an average of the data."
   ]
  },
  {
   "cell_type": "code",
   "execution_count": 60,
   "metadata": {
    "scrolled": true
   },
   "outputs": [
    {
     "data": {
      "image/png": "[encoded data removed]",
      "text/plain": [
       "<matplotlib.figure.Figure at 0x7fce9724fef0>"
      ]
     },
     "metadata": {},
     "output_type": "display_data"
    }
   ],
   "source": [
    "plt.figure()\n",
    "plt.title(\"Neighbors\")\n",
    "\n",
    "error = []\n",
    "for i in range(0, 20):\n",
    "    knn = KNeighborsRegressor(n_neighbors=i+1)\n",
    "    knn.fit(X_train, y_train)\n",
    "    error.append(mean_squared_error(knn.predict(X_test), y_test))\n",
    "    \n",
    "plt.plot(error, label='error')\n",
    "plt.xlabel('# of neighbors')\n",
    "plt.ylabel('MSE')\n",
    "plt.show()"
   ]
  },
  {
   "cell_type": "markdown",
   "metadata": {},
   "source": [
    "#### The best combination of hyperparameters\n",
    "\n",
    "From the anaysis of all the hyperparameters, the algorithm gives preference to 10 neighbors with distance weights. This makes sense because having 10 neighbors includes enough samples to have a conservative prediction without \"bleeding out\" predictions with less relivant samples. I would expect the best number of neighbors to go up or down depending on the number of samples and the variance of the data set. Distance weights perform better than uniform because they give weighted significance to feature distances that are very close."
   ]
  },
  {
   "cell_type": "code",
   "execution_count": 7,
   "metadata": {},
   "outputs": [
    {
     "name": "stdout",
     "output_type": "stream",
     "text": [
      "Best Parameters:  {'n_neighbors': 10, 'weights': 'distance'}\n",
      "Default Score  1.1433050587066558\n",
      "CV Enhanced Score:  1.0671411950550704\n"
     ]
    }
   ],
   "source": [
    "parameters['knn'] = {'n_neighbors':range(1, 50), 'weights':['uniform', 'distance']}\n",
    "\n",
    "knn = KNeighborsRegressor(algorithm='auto')\n",
    "knn_best = GridSearchCV(knn, parameters['knn'])\n",
    "knn_best.fit(X_train_std, y_train)\n",
    "\n",
    "models['knn'] = knn_best\n",
    "\n",
    "print(\"Best Parameters: \", knn_best.best_params_)\n",
    "print(\"Default Score \", mean_squared_error(y_pred[\"knn\"], y_test))\n",
    "\n",
    "y_pred_best[\"knn\"] = knn_best.predict(X_test_std)\n",
    "\n",
    "print(\"CV Enhanced Score: \", mean_squared_error(y_pred_best[\"knn\"], y_test))\n"
   ]
  },
  {
   "cell_type": "markdown",
   "metadata": {},
   "source": [
    "### Linear Regression\n",
    "\n",
    "Linear regression lacks any significant parameters because it has a very stock implementation by sklearn. Despite this, it performs comparable to KNN's default. Once KNN's hyperparameters are refined. Linear regression works best when modeling linear relationships between features and predictions."
   ]
  },
  {
   "cell_type": "code",
   "execution_count": 71,
   "metadata": {},
   "outputs": [
    {
     "name": "stdout",
     "output_type": "stream",
     "text": [
      "Default prediction:  1.1686934014032144\n"
     ]
    }
   ],
   "source": [
    "from sklearn.linear_model import LinearRegression\n",
    "\n",
    "lin_reg = LinearRegression()\n",
    "lin_reg.fit(X_train, y_train.as_matrix().ravel())\n",
    "y_pred[\"lin_reg\"] = lin_reg.predict(X_test)\n",
    "\n",
    "print(\"Default prediction: \", mean_squared_error(y_pred[\"lin_reg\"], y_test))"
   ]
  },
  {
   "cell_type": "markdown",
   "metadata": {},
   "source": [
    "#### Regressions of each feature\n",
    "\n",
    "One interesting observation of linear regression's application to this problem is that some of the features (x1 and x2) have distinct linear relationships. The feature x4 appears to have one as well; however, it contains a lot of values clustered at 0.0. I predict that x1 and x2 would be the most significate features for other algorithms as well."
   ]
  },
  {
   "cell_type": "code",
   "execution_count": 72,
   "metadata": {},
   "outputs": [
    {
     "data": {
      "image/png": "[encoded data removed]",
      "text/plain": [
       "<matplotlib.figure.Figure at 0x7fce97228b70>"
      ]
     },
     "metadata": {},
     "output_type": "display_data"
    }
   ],
   "source": [
    "plt.subplots(figsize=(15, 10))\n",
    "\n",
    "for col_name in X_train:\n",
    "    _, i = col_name\n",
    "    i = int(i)\n",
    "    \n",
    "    plt.subplot(2, 3, i)\n",
    "    plt.scatter(X_test[col_name], y_pred['lin_reg'])\n",
    "    \n",
    "    plt.ylabel('prediction')\n",
    "    plt.title(col_name)\n",
    "\n",
    "\n",
    "plt.tight_layout(pad=1.4, w_pad=1.5, h_pad=1.0)\n",
    "plt.show()"
   ]
  },
  {
   "cell_type": "markdown",
   "metadata": {},
   "source": [
    "### Ridge Regression"
   ]
  },
  {
   "cell_type": "code",
   "execution_count": 87,
   "metadata": {},
   "outputs": [
    {
     "name": "stdout",
     "output_type": "stream",
     "text": [
      "Default prediction:  1.1687183317391352\n"
     ]
    }
   ],
   "source": [
    "from sklearn.linear_model import Ridge\n",
    "\n",
    "ridge = Ridge(random_state=99)\n",
    "ridge.fit(X_train, y_train.as_matrix().ravel())\n",
    "y_pred[\"ridge\"] = ridge.predict(X_test)\n",
    "\n",
    "print(\"Default prediction: \", mean_squared_error(y_pred[\"ridge\"], y_test))"
   ]
  },
  {
   "cell_type": "markdown",
   "metadata": {},
   "source": [
    "#### How does this compare to linear regression?\n",
    "\n",
    "The result between ridge and linear are nearly identical. I also tried assigning different alpha values without improving the error. Linear outperforms ridge in every case. I feel that ridge could potentially perform slightly better depending on how the training/testing sets are split (random seed) however the results are likely marginal."
   ]
  },
  {
   "cell_type": "code",
   "execution_count": 88,
   "metadata": {},
   "outputs": [
    {
     "name": "stdout",
     "output_type": "stream",
     "text": [
      "Ridge :  1.1687183317391352\n",
      "Linear:  1.1686934014032144\n"
     ]
    }
   ],
   "source": [
    "# from sklearn.linear_model import RidgeCV\n",
    "\n",
    "# ridge_cv = RidgeCV(alphas=float_dist)\n",
    "# ridge_cv.fit(X_train_std, y_train.as_matrix().ravel())\n",
    "\n",
    "# y_pred[\"ridge_reg\"] = ridge_cv.predict(X_test_std)\n",
    "\n",
    "print(\"Ridge : \", mean_squared_error(y_pred[\"ridge\"], y_test))\n",
    "print(\"Linear: \", mean_squared_error(y_pred[\"lin_reg\"], y_test))"
   ]
  },
  {
   "cell_type": "markdown",
   "metadata": {},
   "source": [
    "### Regression Trees\n",
    "\n",
    "As stated earlier, regression trees split the data by computing the MSE of the subsets (branches) and finding the feature and threshold with the best split. The default implementation performs very poorly (compared to the other algorithms). This model is likely overfitting the data because it doesn't constrain the depth of the tree."
   ]
  },
  {
   "cell_type": "code",
   "execution_count": 93,
   "metadata": {
    "scrolled": false
   },
   "outputs": [
    {
     "name": "stdout",
     "output_type": "stream",
     "text": [
      "Default values:  1.9009169803882657\n"
     ]
    }
   ],
   "source": [
    "from sklearn.tree import DecisionTreeRegressor\n",
    "\n",
    "\n",
    "tree = DecisionTreeRegressor(random_state=99)\n",
    "tree.fit(X_train, y_train.as_matrix().ravel())\n",
    "y_pred[\"tree\"] = tree.predict(X_test)\n",
    "\n",
    "print(\"Default values: \", mean_squared_error(y_pred[\"tree\"], y_test))"
   ]
  },
  {
   "cell_type": "markdown",
   "metadata": {},
   "source": [
    "#### Testing my hypothesis from earlier\n",
    "\n",
    "Earlier I theorized that X1 and X2 were the most significate features for other algorithms to use. As you can see below, the algorithm chooses to use X1 as its first (most significant) split at d=1 and uses X1/X2 for its d=2 split. You can also see that as the cutoff for X1 decreases from 1100 to 634 the value of the prediction increases from -6.4 to -4.5. This fits the observations in the linear regression graph for X1 above."
   ]
  },
  {
   "cell_type": "code",
   "execution_count": 96,
   "metadata": {},
   "outputs": [
    {
     "data": {
      "image/svg+xml": [
       "<?xml version=\"1.0\" encoding=\"UTF-8\" standalone=\"no\"?>\n",
       "<!DOCTYPE svg PUBLIC \"-//W3C//DTD SVG 1.1//EN\"\n",
       " \"http://www.w3.org/Graphics/SVG/1.1/DTD/svg11.dtd\">\n",
       "<!-- Generated by graphviz version 2.38.0 (20140413.2041)\n",
       " -->\n",
       "<!-- Title: Tree Pages: 1 -->\n",
       "<svg width=\"461pt\" height=\"269pt\"\n",
       " viewBox=\"0.00 0.00 461.00 269.00\" xmlns=\"http://www.w3.org/2000/svg\" xmlns:xlink=\"http://www.w3.org/1999/xlink\">\n",
       "<g id=\"graph0\" class=\"graph\" transform=\"scale(1 1) rotate(0) translate(4 265)\">\n",
       "<title>Tree</title>\n",
       "<polygon fill=\"white\" stroke=\"none\" points=\"-4,4 -4,-265 457,-265 457,4 -4,4\"/>\n",
       "<!-- 0 -->\n",
       "<g id=\"node1\" class=\"node\"><title>0</title>\n",
       "<polygon fill=\"none\" stroke=\"black\" points=\"282,-261 165,-261 165,-193 282,-193 282,-261\"/>\n",
       "<text text-anchor=\"middle\" x=\"223.5\" y=\"-245.8\" font-family=\"Times,serif\" font-size=\"14.00\">X[1] &lt;= 1100.226</text>\n",
       "<text text-anchor=\"middle\" x=\"223.5\" y=\"-230.8\" font-family=\"Times,serif\" font-size=\"14.00\">mse = 7.253</text>\n",
       "<text text-anchor=\"middle\" x=\"223.5\" y=\"-215.8\" font-family=\"Times,serif\" font-size=\"14.00\">samples = 2352</text>\n",
       "<text text-anchor=\"middle\" x=\"223.5\" y=\"-200.8\" font-family=\"Times,serif\" font-size=\"14.00\">value = &#45;6.399</text>\n",
       "</g>\n",
       "<!-- 1 -->\n",
       "<g id=\"node2\" class=\"node\"><title>1</title>\n",
       "<polygon fill=\"none\" stroke=\"black\" points=\"216.5,-157 106.5,-157 106.5,-89 216.5,-89 216.5,-157\"/>\n",
       "<text text-anchor=\"middle\" x=\"161.5\" y=\"-141.8\" font-family=\"Times,serif\" font-size=\"14.00\">X[1] &lt;= 634.268</text>\n",
       "<text text-anchor=\"middle\" x=\"161.5\" y=\"-126.8\" font-family=\"Times,serif\" font-size=\"14.00\">mse = 3.082</text>\n",
       "<text text-anchor=\"middle\" x=\"161.5\" y=\"-111.8\" font-family=\"Times,serif\" font-size=\"14.00\">samples = 869</text>\n",
       "<text text-anchor=\"middle\" x=\"161.5\" y=\"-96.8\" font-family=\"Times,serif\" font-size=\"14.00\">value = &#45;4.463</text>\n",
       "</g>\n",
       "<!-- 0&#45;&gt;1 -->\n",
       "<g id=\"edge1\" class=\"edge\"><title>0&#45;&gt;1</title>\n",
       "<path fill=\"none\" stroke=\"black\" d=\"M203.37,-192.884C198.173,-184.332 192.508,-175.013 187.073,-166.072\"/>\n",
       "<polygon fill=\"black\" stroke=\"black\" points=\"189.926,-164.027 181.741,-157.299 183.944,-167.663 189.926,-164.027\"/>\n",
       "<text text-anchor=\"middle\" x=\"175.817\" y=\"-177.887\" font-family=\"Times,serif\" font-size=\"14.00\">True</text>\n",
       "</g>\n",
       "<!-- 4 -->\n",
       "<g id=\"node5\" class=\"node\"><title>4</title>\n",
       "<polygon fill=\"none\" stroke=\"black\" points=\"338.5,-157 234.5,-157 234.5,-89 338.5,-89 338.5,-157\"/>\n",
       "<text text-anchor=\"middle\" x=\"286.5\" y=\"-141.8\" font-family=\"Times,serif\" font-size=\"14.00\">X[2] &lt;= 12.984</text>\n",
       "<text text-anchor=\"middle\" x=\"286.5\" y=\"-126.8\" font-family=\"Times,serif\" font-size=\"14.00\">mse = 6.213</text>\n",
       "<text text-anchor=\"middle\" x=\"286.5\" y=\"-111.8\" font-family=\"Times,serif\" font-size=\"14.00\">samples = 1483</text>\n",
       "<text text-anchor=\"middle\" x=\"286.5\" y=\"-96.8\" font-family=\"Times,serif\" font-size=\"14.00\">value = &#45;7.533</text>\n",
       "</g>\n",
       "<!-- 0&#45;&gt;4 -->\n",
       "<g id=\"edge4\" class=\"edge\"><title>0&#45;&gt;4</title>\n",
       "<path fill=\"none\" stroke=\"black\" d=\"M243.954,-192.884C249.236,-184.332 254.992,-175.013 260.514,-166.072\"/>\n",
       "<polygon fill=\"black\" stroke=\"black\" points=\"263.656,-167.647 265.933,-157.299 257.7,-163.968 263.656,-167.647\"/>\n",
       "<text text-anchor=\"middle\" x=\"271.683\" y=\"-177.929\" font-family=\"Times,serif\" font-size=\"14.00\">False</text>\n",
       "</g>\n",
       "<!-- 2 -->\n",
       "<g id=\"node3\" class=\"node\"><title>2</title>\n",
       "<polygon fill=\"none\" stroke=\"black\" points=\"97,-53 7.10543e-15,-53 7.10543e-15,-0 97,-0 97,-53\"/>\n",
       "<text text-anchor=\"middle\" x=\"48.5\" y=\"-37.8\" font-family=\"Times,serif\" font-size=\"14.00\">mse = 1.521</text>\n",
       "<text text-anchor=\"middle\" x=\"48.5\" y=\"-22.8\" font-family=\"Times,serif\" font-size=\"14.00\">samples = 181</text>\n",
       "<text text-anchor=\"middle\" x=\"48.5\" y=\"-7.8\" font-family=\"Times,serif\" font-size=\"14.00\">value = &#45;2.881</text>\n",
       "</g>\n",
       "<!-- 1&#45;&gt;2 -->\n",
       "<g id=\"edge2\" class=\"edge\"><title>1&#45;&gt;2</title>\n",
       "<path fill=\"none\" stroke=\"black\" d=\"M121.978,-88.9485C110.711,-79.526 98.451,-69.2731 87.2316,-59.8906\"/>\n",
       "<polygon fill=\"black\" stroke=\"black\" points=\"89.1915,-56.967 79.2751,-53.2367 84.7009,-62.3368 89.1915,-56.967\"/>\n",
       "</g>\n",
       "<!-- 3 -->\n",
       "<g id=\"node4\" class=\"node\"><title>3</title>\n",
       "<polygon fill=\"none\" stroke=\"black\" points=\"212,-53 115,-53 115,-0 212,-0 212,-53\"/>\n",
       "<text text-anchor=\"middle\" x=\"163.5\" y=\"-37.8\" font-family=\"Times,serif\" font-size=\"14.00\">mse = 2.661</text>\n",
       "<text text-anchor=\"middle\" x=\"163.5\" y=\"-22.8\" font-family=\"Times,serif\" font-size=\"14.00\">samples = 688</text>\n",
       "<text text-anchor=\"middle\" x=\"163.5\" y=\"-7.8\" font-family=\"Times,serif\" font-size=\"14.00\">value = &#45;4.879</text>\n",
       "</g>\n",
       "<!-- 1&#45;&gt;3 -->\n",
       "<g id=\"edge3\" class=\"edge\"><title>1&#45;&gt;3</title>\n",
       "<path fill=\"none\" stroke=\"black\" d=\"M162.2,-88.9485C162.374,-80.7153 162.561,-71.848 162.738,-63.4814\"/>\n",
       "<polygon fill=\"black\" stroke=\"black\" points=\"166.243,-63.3086 162.955,-53.2367 159.244,-63.1604 166.243,-63.3086\"/>\n",
       "</g>\n",
       "<!-- 5 -->\n",
       "<g id=\"node6\" class=\"node\"><title>5</title>\n",
       "<polygon fill=\"none\" stroke=\"black\" points=\"337.5,-53 233.5,-53 233.5,-0 337.5,-0 337.5,-53\"/>\n",
       "<text text-anchor=\"middle\" x=\"285.5\" y=\"-37.8\" font-family=\"Times,serif\" font-size=\"14.00\">mse = 4.054</text>\n",
       "<text text-anchor=\"middle\" x=\"285.5\" y=\"-22.8\" font-family=\"Times,serif\" font-size=\"14.00\">samples = 1402</text>\n",
       "<text text-anchor=\"middle\" x=\"285.5\" y=\"-7.8\" font-family=\"Times,serif\" font-size=\"14.00\">value = &#45;7.858</text>\n",
       "</g>\n",
       "<!-- 4&#45;&gt;5 -->\n",
       "<g id=\"edge5\" class=\"edge\"><title>4&#45;&gt;5</title>\n",
       "<path fill=\"none\" stroke=\"black\" d=\"M286.15,-88.9485C286.063,-80.7153 285.969,-71.848 285.881,-63.4814\"/>\n",
       "<polygon fill=\"black\" stroke=\"black\" points=\"289.378,-63.1991 285.772,-53.2367 282.378,-63.2732 289.378,-63.1991\"/>\n",
       "</g>\n",
       "<!-- 6 -->\n",
       "<g id=\"node7\" class=\"node\"><title>6</title>\n",
       "<polygon fill=\"none\" stroke=\"black\" points=\"453,-53 356,-53 356,-0 453,-0 453,-53\"/>\n",
       "<text text-anchor=\"middle\" x=\"404.5\" y=\"-37.8\" font-family=\"Times,serif\" font-size=\"14.00\">mse = 10.232</text>\n",
       "<text text-anchor=\"middle\" x=\"404.5\" y=\"-22.8\" font-family=\"Times,serif\" font-size=\"14.00\">samples = 81</text>\n",
       "<text text-anchor=\"middle\" x=\"404.5\" y=\"-7.8\" font-family=\"Times,serif\" font-size=\"14.00\">value = &#45;1.919</text>\n",
       "</g>\n",
       "<!-- 4&#45;&gt;6 -->\n",
       "<g id=\"edge6\" class=\"edge\"><title>4&#45;&gt;6</title>\n",
       "<path fill=\"none\" stroke=\"black\" d=\"M327.771,-88.9485C339.65,-79.4346 352.588,-69.074 364.396,-59.6175\"/>\n",
       "<polygon fill=\"black\" stroke=\"black\" points=\"366.746,-62.2196 372.363,-53.2367 362.37,-56.7558 366.746,-62.2196\"/>\n",
       "</g>\n",
       "</g>\n",
       "</svg>\n"
      ],
      "text/plain": [
       "<graphviz.files.Source at 0x7fce971399e8>"
      ]
     },
     "execution_count": 96,
     "metadata": {},
     "output_type": "execute_result"
    }
   ],
   "source": [
    "from sklearn.tree import export_graphviz\n",
    "import graphviz\n",
    "\n",
    "tree = DecisionTreeRegressor(random_state=99, max_depth=2)\n",
    "tree.fit(X_train, y_train)\n",
    "\n",
    "export_graphviz(tree, out_file=\"/tmp/tree.dot\")\n",
    "with open(\"/tmp/tree.dot\") as f:\n",
    "    dot_graph = f.read()\n",
    "graphviz.Source(dot_graph)"
   ]
  },
  {
   "cell_type": "markdown",
   "metadata": {},
   "source": [
    "#### What are the best hyperparameters?\n",
    "\n",
    "Using cross validation I analyzed the best hyperparameters between 1 to 25. The alorithm selected d=8 as its ideal depth. This makes sense because as the tree gets deeper, the algorithm overfits and vice versa. The algorithm also prefers a impurity decrease of 0.0033 which keeps the algorithm from making near meaningly splits of data. Despite these tunings of the hyperparameters, the decision tree still performs poorly on the dataset when compared to the other algorithms we've seen."
   ]
  },
  {
   "cell_type": "code",
   "execution_count": 97,
   "metadata": {},
   "outputs": [
    {
     "name": "stdout",
     "output_type": "stream",
     "text": [
      "Best Parameters:  {'min_impurity_decrease': 0.0005530843701478336, 'max_depth': 8}\n",
      "Default Score  1.9009169803882657\n",
      "CV Enhanced Score:  1.8130766846780697\n"
     ]
    }
   ],
   "source": [
    "parameters['tree'] = {'max_depth':range(1, 25), 'min_impurity_decrease': float_dist}\n",
    "\n",
    "tree = DecisionTreeRegressor(random_state=99)\n",
    "tree_best = GridSearchCV(tree, parameters['tree'])\n",
    "tree_best.fit(X_train_std, y_train)\n",
    "\n",
    "models['tree'] = tree_best\n",
    "\n",
    "print(\"Best Parameters: \", tree_best.best_params_)\n",
    "print(\"Default Score \", mean_squared_error(y_pred[\"tree\"], y_test))\n",
    "\n",
    "y_pred_best[\"tree\"] = tree_best.predict(X_test_std)\n",
    "\n",
    "print(\"CV Enhanced Score: \", mean_squared_error(y_pred_best[\"tree\"], y_test))"
   ]
  },
  {
   "cell_type": "markdown",
   "metadata": {},
   "source": [
    "### Random Forests\n",
    "\n",
    "Given the large possible combination of different features, the random forest ensemble performs very well with a 1.088 MSE for its default of 10 random trees. Thus far this is the best algorithm we've seen for use with this dataset. Since random forest is essentially an ensemble of decision trees, its hyperparameters are a superset of those within decision trees and ensembles. The most important \"ensemble parameter\" within the forest algorithm should be the <code>n_estimators</code> parameter which determines the number of trees to use to predict."
   ]
  },
  {
   "cell_type": "code",
   "execution_count": 16,
   "metadata": {
    "scrolled": true
   },
   "outputs": [
    {
     "name": "stdout",
     "output_type": "stream",
     "text": [
      "Default Score (10 trees):  1.0880180633546812\n"
     ]
    }
   ],
   "source": [
    "from sklearn.ensemble import RandomForestRegressor\n",
    "\n",
    "forest = RandomForestRegressor(random_state=99)\n",
    "forest.fit(X_train, y_train.as_matrix().ravel())\n",
    "y_pred[\"forest\"] = forest.predict(X_test)\n",
    "\n",
    "print(\"Default Score (10 trees): \", mean_squared_error(y_pred[\"forest\"], y_test))"
   ]
  },
  {
   "cell_type": "markdown",
   "metadata": {},
   "source": [
    "#### Does setting the depth matter?\n",
    "\n",
    "Interestingly, the forest ensemble prefers deeper trees to that of individual decision tree algorithms. Since the random forest polls from multiple algorithms, it is likely more robust towards overfitting than one particular tree. Since the features are split at random. The data also probably isn't partitioned as fast into significant groups."
   ]
  },
  {
   "cell_type": "code",
   "execution_count": 17,
   "metadata": {},
   "outputs": [
    {
     "name": "stdout",
     "output_type": "stream",
     "text": [
      "Best Parameters:  {'max_depth': 12}\n",
      "Default Score  1.0880180633546812\n",
      "CV Enhanced Score:  1.0706217756957312\n"
     ]
    }
   ],
   "source": [
    "parameters['forest'] = {'max_depth': [None] + list(range(1, 30))}\n",
    "\n",
    "forest = RandomForestRegressor(random_state=99)\n",
    "forest_best = GridSearchCV(forest, parameters['forest'])\n",
    "forest_best.fit(X_train_std, y_train.as_matrix().ravel())\n",
    "\n",
    "models['forest'] = forest_best\n",
    "\n",
    "print(\"Best Parameters: \", forest_best.best_params_)\n",
    "print(\"Default Score \", mean_squared_error(y_pred[\"forest\"], y_test))\n",
    "\n",
    "y_pred_best[\"forest\"] = forest_best.predict(X_test_std)\n",
    "\n",
    "print(\"CV Enhanced Score: \", mean_squared_error(y_pred_best[\"forest\"], y_test))"
   ]
  },
  {
   "cell_type": "markdown",
   "metadata": {},
   "source": [
    "#### How many trees should a forest have?\n",
    "\n",
    "The random forest performs better with more and more trees. Unfortunately, this adds computational complexity to the algorithm; however, the base principle of ensembles mean that any added model that has good certainty about a prediction can contribute to the prediction."
   ]
  },
  {
   "cell_type": "code",
   "execution_count": 26,
   "metadata": {},
   "outputs": [
    {
     "data": {
      "image/png": "[encoded data removed]",
      "text/plain": [
       "<matplotlib.figure.Figure at 0x7fce9761ef28>"
      ]
     },
     "metadata": {},
     "output_type": "display_data"
    }
   ],
   "source": [
    "plt.figure()\n",
    "plt.title(\"Trees in a Forest\")\n",
    "\n",
    "error = []\n",
    "for i in range(1, 20):\n",
    "    forest = RandomForestRegressor(random_state=99, n_estimators=i*5)\n",
    "    forest.fit(X_train, y_train.as_matrix().ravel())\n",
    "    error.append(mean_squared_error(forest.predict(X_test), y_test))\n",
    "    \n",
    "plt.plot(error, label='error')\n",
    "plt.xlabel('# of trees')\n",
    "plt.ylabel('MSE')\n",
    "plt.show()"
   ]
  },
  {
   "cell_type": "markdown",
   "metadata": {},
   "source": [
    "### SVM Regression\n",
    "\n",
    "SVM performs suprisingly well on the dataset with a 0.95 MSE. Standardizing the data is extremely important for this model (non-standardized data scored 7.6). The SVM appears multiple features better than random forests (or any other algorithms we've seen). "
   ]
  },
  {
   "cell_type": "code",
   "execution_count": 100,
   "metadata": {},
   "outputs": [
    {
     "name": "stdout",
     "output_type": "stream",
     "text": [
      "MSE:  0.9629951631376539\n"
     ]
    }
   ],
   "source": [
    "from sklearn.svm import SVR\n",
    "\n",
    "svm = SVR()\n",
    "svm.fit(X_train_std, y_train.as_matrix().ravel())\n",
    "y_pred[\"svm\"] = svm.predict(X_test_std)\n",
    "\n",
    "print(\"MSE: \", mean_squared_error(y_pred[\"svm\"], y_test))"
   ]
  },
  {
   "cell_type": "code",
   "execution_count": 25,
   "metadata": {
    "scrolled": true
   },
   "outputs": [
    {
     "name": "stdout",
     "output_type": "stream",
     "text": [
      "Best Parameters:  {'kernel': 'rbf', 'shrinking': False, 'degree': 1}\n",
      "Default Score  0.9522681166953314\n",
      "CV Enhanced Score:  0.9522418874676214\n"
     ]
    }
   ],
   "source": [
    "parameters['svm'] = {'degree':[1, 2, 3, 4, 5], \n",
    "                     'shrinking': [True, False], \n",
    "                     \"kernel\": ['linear', 'poly', 'rbf', 'sigmoid']}\n",
    "\n",
    "svm = SVR()\n",
    "svm_best = GridSearchCV(svm, parameters['svm'])\n",
    "svm_best.fit(X_train_std, y_train.as_matrix().ravel())\n",
    "\n",
    "models['svm'] = svm_best\n",
    "\n",
    "print(\"Best Parameters: \", svm_best.best_params_)\n",
    "print(\"Default Score \", mean_squared_error(y_pred[\"svm\"], y_test))\n",
    "\n",
    "y_pred_best[\"svm\"] = svm_best.predict(X_test_std)\n",
    "\n",
    "print(\"CV Enhanced Score: \", mean_squared_error(y_pred_best[\"svm\"], y_test))"
   ]
  },
  {
   "cell_type": "markdown",
   "metadata": {},
   "source": [
    "### Multilayer Perceptron\n",
    "\n",
    "The algorithms with the best predictions I observed was the MLP. This algorithm produced a 0.90 MSE for the data with defaults! MLP works best for learning important features from high dimensional inputs so it naturally performs very well for the energy dataset. One potential drawback is that the algorithm needs a lot of iteration to train and backpropagate. Overtime the algorithm can also overfit the data. This was mitigated by using early stopage (storing the best seen weights and returning them when the error starts to go up)."
   ]
  },
  {
   "cell_type": "code",
   "execution_count": 101,
   "metadata": {},
   "outputs": [
    {
     "name": "stdout",
     "output_type": "stream",
     "text": [
      "Default MSE:  0.9078304717677032\n"
     ]
    }
   ],
   "source": [
    "from sklearn.neural_network import MLPRegressor\n",
    "\n",
    "mlp = MLPRegressor(random_state=99, max_iter=400, early_stopping=True)\n",
    "mlp.fit(X_train_std, y_train.as_matrix().ravel())\n",
    "y_pred[\"mlp\"] = mlp.predict(X_test_std)\n",
    "\n",
    "print(\"Default MSE: \", mean_squared_error(y_pred[\"mlp\"], y_test))"
   ]
  },
  {
   "cell_type": "markdown",
   "metadata": {},
   "source": [
    "#### How big should the layers be?\n",
    "\n",
    "Changing the size of one hidden layer caused the error to go down but the results were fairly erratic, so making a reasonable prediction of an ideal layer size was rather challenging."
   ]
  },
  {
   "cell_type": "code",
   "execution_count": 39,
   "metadata": {
    "scrolled": true
   },
   "outputs": [
    {
     "data": {
      "image/png": "[encoded data removed]",
      "text/plain": [
       "<matplotlib.figure.Figure at 0x7fce94874f28>"
      ]
     },
     "metadata": {},
     "output_type": "display_data"
    }
   ],
   "source": [
    "plt.figure()\n",
    "plt.title(\"Hidden Layers Size (1 hidden layer)\")\n",
    "\n",
    "error = []\n",
    "for i in range(10, 100, 5):\n",
    "    mlp = MLPRegressor(random_state=99, hidden_layer_sizes=i, early_stopping=True, max_iter=400)\n",
    "    mlp.fit(X_train_std, y_train.as_matrix().ravel())\n",
    "    error.append(mean_squared_error(mlp.predict(X_test_std), y_test))\n",
    "    \n",
    "plt.plot(range(10, 100, 5), error, label='error')\n",
    "plt.xlabel('size of hidden layer')\n",
    "plt.ylabel('MSE')\n",
    "plt.show()"
   ]
  },
  {
   "cell_type": "markdown",
   "metadata": {},
   "source": [
    "#### How many hidden layers to use?\n",
    "\n",
    "Given the burdensome complexity of training a NN, using cross validation for many parameters would be rather burdensome. We can see, however, that as the number of hidden layers increase the algorithm \"generally\" performs better. "
   ]
  },
  {
   "cell_type": "code",
   "execution_count": 40,
   "metadata": {
    "scrolled": true
   },
   "outputs": [
    {
     "data": {
      "image/png": "[encoded data removed]",
      "text/plain": [
       "<matplotlib.figure.Figure at 0x7fce94897240>"
      ]
     },
     "metadata": {},
     "output_type": "display_data"
    }
   ],
   "source": [
    "plt.figure()\n",
    "plt.title(\"Number of hidden layers\")\n",
    "\n",
    "error = []\n",
    "hidden_layers = (11)\n",
    "for i in range(1, 10):\n",
    "    mlp = MLPRegressor(random_state=99, hidden_layer_sizes=hidden_layers, early_stopping=True, max_iter=400)\n",
    "    mlp.fit(X_train_std, y_train.as_matrix().ravel())\n",
    "    error.append(mean_squared_error(mlp.predict(X_test_std), y_test))\n",
    "    hidden_layers += (11)\n",
    "    \n",
    "plt.plot(range(1, 10), error, label='error')\n",
    "plt.xlabel('# of hidden layers')\n",
    "plt.ylabel('MSE')\n",
    "plt.show()"
   ]
  },
  {
   "cell_type": "markdown",
   "metadata": {},
   "source": [
    "From the observations on the layer sizes and depths, I've decided to train a 100 x 9 MLP. The MSE from this was 0.88 which has a lower error rate than the default at 0.90 and all the other algorithms."
   ]
  },
  {
   "cell_type": "code",
   "execution_count": 106,
   "metadata": {},
   "outputs": [
    {
     "data": {
      "text/plain": [
       "0.8811536014381465"
      ]
     },
     "execution_count": 106,
     "metadata": {},
     "output_type": "execute_result"
    }
   ],
   "source": [
    "mlp_best = MLPRegressor(random_state=99, max_iter=400, early_stopping=True, hidden_layer_sizes=(100, 100, 100, 100, 100, 100, 100, 100, 100))\n",
    "mlp_best.fit(X_train_std, y_train.as_matrix().ravel())\n",
    "y_pred[\"mlp\"] = mlp.predict(X_test_std)\n",
    "\n",
    "models[\"mlp\"] = mlp_best\n",
    "\n",
    "y_pred_best[\"mlp\"] = mlp_best.predict(X_test_std)\n",
    "\n",
    "mean_squared_error(y_pred_best[\"mlp\"], y_test)"
   ]
  },
  {
   "cell_type": "markdown",
   "metadata": {},
   "source": [
    "# Conclusion\n"
   ]
  },
  {
   "cell_type": "markdown",
   "metadata": {},
   "source": [
    "From what I have observed in lab 2 I can conclude that algorithms that handle more complex features work better on the energy dataset. Algorithms like SVM and MLP performed the best on the data, whereas algorithms like linear regression made predictions that were too general. This lab also did an exellent job representing the limitions of decision trees (by themselves) as well as the power of statistical ensemble methods. Given the success of the MLP algorithm, I would recomment future experimentation with activation function and variation of layer sizes to improve accuracy. I would also be interested in making comparisons of these algorithms on dissimilar datasets."
   ]
  },
  {
   "cell_type": "code",
   "execution_count": null,
   "metadata": {},
   "outputs": [],
   "source": []
  }
 ],
 "metadata": {
  "kernelspec": {
   "display_name": "Python 3",
   "language": "python",
   "name": "python3"
  },
  "language_info": {
   "codemirror_mode": {
    "name": "ipython",
    "version": 3
   },
   "file_extension": ".py",
   "mimetype": "text/x-python",
   "name": "python",
   "nbconvert_exporter": "python",
   "pygments_lexer": "ipython3",
   "version": "3.5.2"
  }
 },
 "nbformat": 4,
 "nbformat_minor": 2
}
