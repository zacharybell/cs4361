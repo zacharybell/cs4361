{
 "cells": [
  {
   "cell_type": "markdown",
   "metadata": {},
   "source": [
    "# Prepare Data"
   ]
  },
  {
   "cell_type": "markdown",
   "metadata": {},
   "source": [
    "#### All the libraries used in the exercies"
   ]
  },
  {
   "cell_type": "code",
   "execution_count": 1,
   "metadata": {},
   "outputs": [],
   "source": [
    "import math\n",
    "import numpy as np\n",
    "import pandas as pd\n",
    "from sklearn.model_selection import train_test_split\n",
    "from sklearn.metrics import mean_squared_error\n",
    "import sys"
   ]
  },
  {
   "cell_type": "markdown",
   "metadata": {},
   "source": [
    "#### Read in the data and split into training and testing on a 0.75 split"
   ]
  },
  {
   "cell_type": "code",
   "execution_count": 2,
   "metadata": {},
   "outputs": [],
   "source": [
    "data = pd.read_csv(\"../res/energy.txt\", \n",
    "                   delimiter=\",\", \n",
    "                   names=['x1', 'x2', 'x3', 'x4', 'x5', 'y'])\n",
    "\n",
    "data_train, data_test = train_test_split(data, \n",
    "                                         test_size=0.25,\n",
    "                                         train_size=0.75,\n",
    "                                         random_state=99,\n",
    "                                         shuffle=True)"
   ]
  },
  {
   "cell_type": "markdown",
   "metadata": {},
   "source": [
    "# The Loss Function"
   ]
  },
  {
   "cell_type": "code",
   "execution_count": 3,
   "metadata": {},
   "outputs": [],
   "source": [
    "def loss(df: pd.DataFrame, j: str, t: float) -> float:\n",
    "    x = df[j]\n",
    "    n = len(x)\n",
    "    left, right = get_split_mask(x, t)\n",
    "    return (len(left) / n) * criteria(df, left) + \\\n",
    "           (len(right) / n) * criteria(df, right)\n",
    "\n",
    "\n",
    "def criteria(df: pd.DataFrame, mask: list) -> float:\n",
    "    if not mask:\n",
    "        return 0.0\n",
    "    y = df['y'].iloc[mask]\n",
    "    avg = np.mean(y)\n",
    "    return float(np.mean((y - avg)**2))\n",
    "\n",
    "\n",
    "def get_split_mask(x: pd.Series, t: float):\n",
    "    n = len(x)\n",
    "    left = []\n",
    "    right = []\n",
    "    for i in range(n):\n",
    "        if x.iloc[i] <= t:\n",
    "            left.append(i)\n",
    "        else:\n",
    "            right.append(i)\n",
    "    return left, right"
   ]
  },
  {
   "cell_type": "markdown",
   "metadata": {},
   "source": [
    "## Feature/Threshold Functions\n",
    "\n",
    "Finding the feature and threshold\n",
    "\n",
    "* best_split - tries all combinations of features and thresholds\n",
    "    * very expensive\n",
    "* mean_split / median_split - uses the mean or median as a threshold along with a combination of the features"
   ]
  },
  {
   "cell_type": "code",
   "execution_count": 4,
   "metadata": {},
   "outputs": [],
   "source": [
    "def best_split(df: pd.DataFrame):\n",
    "    X = df.drop(['y'], axis=1)\n",
    "    min_val = sys.float_info.max\n",
    "    \n",
    "    min_j = None\n",
    "    min_t = None\n",
    "    \n",
    "    for _, rows in X.iterrows():\n",
    "        for j, t in rows.iteritems():\n",
    "            temp = loss(df, j, t)\n",
    "            if temp < min_val:\n",
    "                min_val = temp\n",
    "                min_j = j\n",
    "                min_t = t\n",
    "\n",
    "    return min_j, min_t"
   ]
  },
  {
   "cell_type": "code",
   "execution_count": 5,
   "metadata": {},
   "outputs": [],
   "source": [
    "def mean_split(df: pd.DataFrame):\n",
    "    X = df.drop(['y'], axis=1)\n",
    "    min_val = sys.float_info.max\n",
    "    \n",
    "    min_j = None\n",
    "    min_t = None\n",
    "    \n",
    "    for j in X:\n",
    "        t = np.mean(X[j])\n",
    "        temp = loss(df, j, t)\n",
    "        if temp < min_val:\n",
    "            min_val = temp\n",
    "            min_j = j\n",
    "            min_t = t\n",
    "\n",
    "    return min_j, min_t"
   ]
  },
  {
   "cell_type": "code",
   "execution_count": 6,
   "metadata": {},
   "outputs": [],
   "source": [
    "def median_split(df: pd.DataFrame):\n",
    "    X = df.drop(['y'], axis=1)\n",
    "    min_val = sys.float_info.max\n",
    "    \n",
    "    min_j = None\n",
    "    min_t = None\n",
    "    \n",
    "    for j in X:\n",
    "        t = np.median(X[j])\n",
    "        temp = loss(df, j, t)\n",
    "        if temp < min_val:\n",
    "            min_val = temp\n",
    "            min_j = j\n",
    "            min_t = t\n",
    "\n",
    "    return min_j, min_t"
   ]
  },
  {
   "cell_type": "markdown",
   "metadata": {},
   "source": [
    "## Testing\n",
    "\n",
    "Just a little bit of testing for checking that the loss function works"
   ]
  },
  {
   "cell_type": "code",
   "execution_count": 20,
   "metadata": {},
   "outputs": [
    {
     "name": "stdout",
     "output_type": "stream",
     "text": [
      "x3 4\n",
      "0.5\n",
      "2.166666666666667\n",
      "2.5\n",
      "0.5\n",
      "3.5\n",
      "3.5\n",
      "3.5\n",
      "3.166666666666667\n",
      "2.5\n",
      "1.25\n",
      "0.5\n",
      "3.166666666666667\n",
      "3.5\n"
     ]
    }
   ],
   "source": [
    "test_dict = {'x1': [1, 2, 3, 4], 'x2': [3, 5, 1, 2], 'x3': [3, 4, 1, 5], 'y': [1, 3, 2, 6]}\n",
    "test_df = pd.DataFrame(test_dict)\n",
    "\n",
    "j, f = best_split(test_df)\n",
    "print(j, f)\n",
    "print(loss(test_df, j, f))\n",
    "print(loss(test_df, 'x1', 1))\n",
    "print(loss(test_df, 'x1', 2))\n",
    "print(loss(test_df, 'x1', 3))\n",
    "print(loss(test_df, 'x1', 4))\n",
    "print(loss(test_df, 'x2', 3))\n",
    "print(loss(test_df, 'x2', 5))\n",
    "print(loss(test_df, 'x2', 1))\n",
    "print(loss(test_df, 'x2', 2))\n",
    "print(loss(test_df, 'x3', 3))\n",
    "print(loss(test_df, 'x3', 4))\n",
    "print(loss(test_df, 'x3', 1))\n",
    "print(loss(test_df, 'x3', 5))\n",
    "\n",
    "\n",
    "\n",
    "\n",
    "\n",
    "# assert abs(2.1969 - criteria(test_df, [0, 1, 2, 3])) < 0.001\n",
    "# assert abs(criteria(test_df, [1])) < 0.000001\n",
    "\n"
   ]
  },
  {
   "cell_type": "code",
   "execution_count": 8,
   "metadata": {},
   "outputs": [
    {
     "data": {
      "text/plain": [
       "('x2', 1310.9976768344673)"
      ]
     },
     "execution_count": 8,
     "metadata": {},
     "output_type": "execute_result"
    }
   ],
   "source": [
    "mean_split(data_train)"
   ]
  },
  {
   "cell_type": "markdown",
   "metadata": {},
   "source": [
    "# Regression Tree"
   ]
  },
  {
   "cell_type": "code",
   "execution_count": 9,
   "metadata": {},
   "outputs": [],
   "source": [
    "class Node:\n",
    "    def __init__(self, threshold=None, feature=None, value=None,\n",
    "                 left=None, right=None):\n",
    "        self.threshold = threshold\n",
    "        self.feature = feature\n",
    "        self.value = value\n",
    "        self.left = left\n",
    "        self.right = right\n",
    "    \n",
    "    def is_leaf(self):\n",
    "        return self.value is not None\n",
    "\n",
    "\n",
    "class RegressionTree:\n",
    "    def __init__(self, split=mean_split, max_depth=None, min_size=1):\n",
    "        self.split = split\n",
    "        self.max_depth = max_depth\n",
    "        self.min_size = min_size\n",
    "        self.root = None\n",
    "    \n",
    "    def fit(self, data: pd.DataFrame):\n",
    "        self.root = self.build_tree(data, self.max_depth, self.min_size)\n",
    "    \n",
    "    def predict(self, df: pd.DataFrame):\n",
    "        y_pred = pd.Series()\n",
    "        for i, e in df.iterrows():\n",
    "            t_root = self.root\n",
    "            while not t_root.is_leaf():\n",
    "                if e[t_root.feature] <= t_root.threshold:\n",
    "                    t_root = t_root.left\n",
    "                else:\n",
    "                    t_root = t_root.right\n",
    "            # y_pred.set_value(value=t_root.value, label=i)\n",
    "            y_pred.at[i] = t_root.value\n",
    "        return y_pred\n",
    "    \n",
    "    @classmethod\n",
    "    def build_tree(cls, df: pd.DataFrame, max_depth=None, min_size=1):\n",
    "        (r, _) = df.shape\n",
    "        if r <= 0:\n",
    "            raise Exception(\"Attempting to create an empty branch!\")\n",
    "        if r == min_size:\n",
    "            return Node(value=float(np.mean(df['y'])))\n",
    "        if max_depth is not None and max_depth == 0:\n",
    "            return Node(value=float(np.mean(df['y'])))\n",
    "        j, t = mean_split(df)\n",
    "        left, right = get_split_mask(df[j], t)\n",
    "        \n",
    "        if max_depth is not None:\n",
    "            max_depth -= 1\n",
    "        \n",
    "        return Node(left=cls.build_tree(df.iloc[left], max_depth, min_size), \n",
    "                    right=cls.build_tree(df.iloc[right], max_depth, min_size),\n",
    "                    threshold=t, feature=j)\n"
   ]
  },
  {
   "cell_type": "markdown",
   "metadata": {},
   "source": [
    "# Results"
   ]
  },
  {
   "cell_type": "markdown",
   "metadata": {},
   "source": [
    "### Question 1"
   ]
  },
  {
   "cell_type": "code",
   "execution_count": 10,
   "metadata": {},
   "outputs": [],
   "source": [
    "(r, _) = data_test.shape\n",
    "\n",
    "naive = pd.Series(np.full(r, float(np.mean(data_train['y']))))"
   ]
  },
  {
   "cell_type": "markdown",
   "metadata": {},
   "source": [
    "### Question 2"
   ]
  },
  {
   "cell_type": "code",
   "execution_count": 11,
   "metadata": {},
   "outputs": [
    {
     "name": "stdout",
     "output_type": "stream",
     "text": [
      "Naive regression: \n",
      "2.72036828734702\n",
      "Mean split regression tree: \n",
      "1.4393885347746098\n"
     ]
    }
   ],
   "source": [
    "rtree = RegressionTree(max_depth=10)\n",
    "rtree.fit(data_train)\n",
    "y_pred = rtree.predict(data_test)\n",
    "\n",
    "\n",
    "def rmse(a: pd.Series, b: pd.Series):\n",
    "    return math.sqrt(mean_squared_error(a, b))\n",
    "\n",
    "print(\"Naive regression: \")\n",
    "print(rmse(naive, data_test['y']))\n",
    "\n",
    "print(\"Mean split regression tree: \")\n",
    "print(rmse(y_pred, data_test['y']))"
   ]
  },
  {
   "cell_type": "markdown",
   "metadata": {},
   "source": [
    "# Citations\n",
    "\n",
    "* Decision Trees. (2017). http://scikit-learn.org/stable/modules/tree.html#mathematical-formulation\n",
    "\n",
    "** Note: Some of the function names from sklearn were used for clarity. The implementation of these functions are unique the solutions in this exercies."
   ]
  },
  {
   "cell_type": "code",
   "execution_count": null,
   "metadata": {},
   "outputs": [],
   "source": []
  }
 ],
 "metadata": {
  "kernelspec": {
   "display_name": "Python 3",
   "language": "python",
   "name": "python3"
  },
  "language_info": {
   "codemirror_mode": {
    "name": "ipython",
    "version": 3
   },
   "file_extension": ".py",
   "mimetype": "text/x-python",
   "name": "python",
   "nbconvert_exporter": "python",
   "pygments_lexer": "ipython3",
   "version": "3.5.2"
  }
 },
 "nbformat": 4,
 "nbformat_minor": 1
}
