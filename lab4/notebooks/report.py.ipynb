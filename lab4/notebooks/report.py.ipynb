{
 "cells": [
  {
   "cell_type": "code",
   "execution_count": 5,
   "metadata": {},
   "outputs": [],
   "source": [
    "from sklearn.decomposition import PCA\n",
    "from sklearn.preprocessing import StandardScaler, Normalizer\n",
    "\n",
    "from sklearn.ensemble import RandomForestClassifier\n",
    "from sklearn.neighbors import KNeighborsClassifier\n",
    "from sklearn.neural_network import MLPClassifier\n",
    "from sklearn.svm import SVC\n",
    "from sklearn.tree import DecisionTreeClassifier\n",
    "\n",
    "from sklearn.model_selection import GridSearchCV, train_test_split\n",
    "from sklearn.pipeline import Pipeline\n",
    "\n",
    "import numpy as np"
   ]
  },
  {
   "cell_type": "code",
   "execution_count": 6,
   "metadata": {},
   "outputs": [],
   "source": [
    "RANDOM = 99\n",
    "\n",
    "X = dict()\n",
    "y = dict()\n",
    "\n",
    "X_train = dict()\n",
    "X_test = dict()\n",
    "y_train = dict()\n",
    "y_test = dict()"
   ]
  },
  {
   "cell_type": "code",
   "execution_count": 7,
   "metadata": {},
   "outputs": [],
   "source": [
    "preprocessors = {\n",
    "    'std': StandardScaler(),\n",
    "    'norm': Normalizer(),\n",
    "    'pca': PCA()\n",
    "}\n",
    "\n",
    "estimators = {\n",
    "    'knn': [\n",
    "        KNeighborsClassifier(),\n",
    "        { 'n_neighbors': [1, 3, 5, 9], 'p': [1, 2] }\n",
    "    ],\n",
    "    'mlp': [\n",
    "        MLPClassifier(random_state=RANDOM),\n",
    "        {\n",
    "            'activation': ['identity', 'logistic', 'tanh', 'relu'],\n",
    "            'alpha': [0.000001, 0.00001, 0.0001, 0.001, 0.01]\n",
    "        }\n",
    "    ],\n",
    "    'svm': [\n",
    "        SVC(random_state=RANDOM),\n",
    "        { 'kernel': ['linear', 'poly', 'rbf', 'sigmoid', 'precomputed'] }\n",
    "    ],\n",
    "    'tree': [\n",
    "        DecisionTreeClassifier(random_state=RANDOM),\n",
    "        {\n",
    "            'criterion': ['gini', 'entropy'],\n",
    "            'min_sample_leaf': [1, 3, 5, 9],\n",
    "            'min_impurity_decrease': [0, 0.1, 0.25, 0.5]\n",
    "        }\n",
    "    ],\n",
    "    'forest': [\n",
    "        RandomForestClassifier(random_state=RANDOM),\n",
    "        {\n",
    "            'criterion': ['gini', 'entropy'],\n",
    "            'min_sample_leaf': [1, 3, 5, 9],\n",
    "            'min_impurity_decrease': [0, 0.1, 0.25, 0.5]\n",
    "        }\n",
    "    ]\n",
    "}"
   ]
  },
  {
   "cell_type": "code",
   "execution_count": 9,
   "metadata": {},
   "outputs": [],
   "source": [
    "mol = np.load('../res/molecules.npy').reshape((-1,49))\n",
    "no_mol = np.load('../res/no_mol.npy').reshape((-1,49))\n",
    "\n",
    "n_ones = mol.shape[0]\n",
    "n_zeros = no_mol.shape[0]\n",
    "\n",
    "X['mol'] = np.concatenate((mol, no_mol), axis=0)\n",
    "y['mol'] = np.append(np.ones(n_ones, dtype=int), np.zeros(n_zeros, dtype=int))"
   ]
  },
  {
   "cell_type": "code",
   "execution_count": 11,
   "metadata": {},
   "outputs": [],
   "source": [
    "X['rna'] = np.load('../res/rnafolding_X.npy')\n",
    "y['rna'] = np.load('../res/rnafolding_y.npy').ravel()"
   ]
  },
  {
   "cell_type": "code",
   "execution_count": 12,
   "metadata": {},
   "outputs": [],
   "source": [
    "X_train['mol'], X_test['mol'], y_train['mol'], y_test['mol'] = train_test_split(\n",
    "    X['mol'], y['mol'], test_size=0.2, shuffle=True, random_state=RANDOM\n",
    ")\n",
    "\n",
    "X_train['rna'], X_test['rna'], y_train['rna'], y_test['rna'] = train_test_split(\n",
    "    X['rna'], y['rna'], test_size=0.2, shuffle=True, random_state=RANDOM\n",
    ")"
   ]
  },
  {
   "cell_type": "code",
   "execution_count": null,
   "metadata": {},
   "outputs": [],
   "source": []
  }
 ],
 "metadata": {
  "kernelspec": {
   "display_name": "Python 3",
   "language": "python",
   "name": "python3"
  },
  "language_info": {
   "codemirror_mode": {
    "name": "ipython",
    "version": 3
   },
   "file_extension": ".py",
   "mimetype": "text/x-python",
   "name": "python",
   "nbconvert_exporter": "python",
   "pygments_lexer": "ipython3",
   "version": "3.5.2"
  }
 },
 "nbformat": 4,
 "nbformat_minor": 2
}
